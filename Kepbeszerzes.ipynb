{
  "nbformat": 4,
  "nbformat_minor": 0,
  "metadata": {
    "colab": {
      "provenance": [],
      "authorship_tag": "ABX9TyO0GQlQ8UE+54za6TBVf27m",
      "include_colab_link": true
    },
    "kernelspec": {
      "name": "python3",
      "display_name": "Python 3"
    },
    "language_info": {
      "name": "python"
    }
  },
  "cells": [
    {
      "cell_type": "markdown",
      "metadata": {
        "id": "view-in-github",
        "colab_type": "text"
      },
      "source": [
        "<a href=\"https://colab.research.google.com/github/bankyadam/B-GY-INTAL1/blob/main/Kepbeszerzes.ipynb\" target=\"_parent\"><img src=\"https://colab.research.google.com/assets/colab-badge.svg\" alt=\"Open In Colab\"/></a>"
      ]
    },
    {
      "cell_type": "markdown",
      "source": [
        "# Kepbeszerzes"
      ],
      "metadata": {
        "id": "Yb9jLp2czZXY"
      }
    },
    {
      "cell_type": "markdown",
      "source": [
        "Csatlakozzunk a Google Drive meghajtonkhoz (Hitelesites szukseges)"
      ],
      "metadata": {
        "id": "PQN8N8-jzjxz"
      }
    },
    {
      "cell_type": "code",
      "execution_count": 1,
      "metadata": {
        "colab": {
          "base_uri": "https://localhost:8080/"
        },
        "id": "7jKHa_ovybRC",
        "outputId": "8d226356-28c1-4a90-e6a5-b3366d28400b"
      },
      "outputs": [
        {
          "output_type": "stream",
          "name": "stdout",
          "text": [
            "Mounted at /content/gdrive\n"
          ]
        }
      ],
      "source": [
        "from google.colab import drive\n",
        "drive.mount('/content/gdrive')"
      ]
    },
    {
      "cell_type": "markdown",
      "source": [
        "Ellenorizzuk az aktualis mappa tartalmat"
      ],
      "metadata": {
        "id": "ay844eng0Lsj"
      }
    },
    {
      "cell_type": "code",
      "source": [
        "!ls"
      ],
      "metadata": {
        "colab": {
          "base_uri": "https://localhost:8080/"
        },
        "id": "FX9Fj07v0V-2",
        "outputId": "beb55710-9e72-4b64-ca82-1573ecb57965"
      },
      "execution_count": 2,
      "outputs": [
        {
          "output_type": "stream",
          "name": "stdout",
          "text": [
            "gdrive\tsample_data\n"
          ]
        }
      ]
    },
    {
      "cell_type": "markdown",
      "source": [
        "Ezt kovetoen letrehozunk egy mappat, melyben dolgozni fogunk"
      ],
      "metadata": {
        "id": "SN0FtiPo0ZcU"
      }
    },
    {
      "cell_type": "code",
      "source": [
        "import os\n",
        "import shutil\n",
        "\n",
        "folder_path = \"/content/gdrive/MyDrive/B-VI-MESTIN/ImageScrapper/Images\"\n",
        "\n",
        "if (os.path.exists(folder_path)):\n",
        "  shutil.rmtree(folder_path)\n",
        "\n",
        "os.makedirs(folder_path, exist_ok=True)"
      ],
      "metadata": {
        "id": "sglmlPO50kM7"
      },
      "execution_count": 4,
      "outputs": []
    },
    {
      "cell_type": "markdown",
      "source": [
        "Belepunk a mappankba"
      ],
      "metadata": {
        "id": "Y7kXFs5S1iG4"
      }
    },
    {
      "cell_type": "code",
      "source": [
        "%cd /content/gdrive/MyDrive/B-VI-MESTIN/ImageScrapper/"
      ],
      "metadata": {
        "colab": {
          "base_uri": "https://localhost:8080/"
        },
        "id": "I9767P7V1jsN",
        "outputId": "d257cbd4-3178-4cfb-d538-53bb845e804e"
      },
      "execution_count": 6,
      "outputs": [
        {
          "output_type": "stream",
          "name": "stdout",
          "text": [
            "/content/gdrive/MyDrive/B-VI-MESTIN/ImageScrapper\n"
          ]
        }
      ]
    },
    {
      "cell_type": "markdown",
      "source": [
        "Telepitsuk a kepletolto alkalmazast"
      ],
      "metadata": {
        "id": "dtWsygpM1w9o"
      }
    },
    {
      "cell_type": "code",
      "source": [
        "!pip install pexels-api"
      ],
      "metadata": {
        "colab": {
          "base_uri": "https://localhost:8080/"
        },
        "id": "dM4YotbW100u",
        "outputId": "57b1a917-1b58-4239-c461-9483f731f515"
      },
      "execution_count": 5,
      "outputs": [
        {
          "output_type": "stream",
          "name": "stdout",
          "text": [
            "Collecting pexels-api\n",
            "  Downloading pexels_api-1.0.1-py3-none-any.whl (4.7 kB)\n",
            "Requirement already satisfied: requests in /usr/local/lib/python3.10/dist-packages (from pexels-api) (2.31.0)\n",
            "Requirement already satisfied: charset-normalizer<4,>=2 in /usr/local/lib/python3.10/dist-packages (from requests->pexels-api) (3.3.2)\n",
            "Requirement already satisfied: idna<4,>=2.5 in /usr/local/lib/python3.10/dist-packages (from requests->pexels-api) (3.7)\n",
            "Requirement already satisfied: urllib3<3,>=1.21.1 in /usr/local/lib/python3.10/dist-packages (from requests->pexels-api) (2.0.7)\n",
            "Requirement already satisfied: certifi>=2017.4.17 in /usr/local/lib/python3.10/dist-packages (from requests->pexels-api) (2024.2.2)\n",
            "Installing collected packages: pexels-api\n",
            "Successfully installed pexels-api-1.0.1\n"
          ]
        }
      ]
    },
    {
      "cell_type": "code",
      "source": [
        "import argparse\n",
        "import json\n",
        "import os\n",
        "import time\n",
        "\n",
        "import requests\n",
        "import tqdm\n",
        "from pexels_api import API\n",
        "\n",
        "PAGE_LIMIT = 5 # 20\n",
        "RESULTS_PER_PAGE = 1; # 80\n",
        "\n",
        "PEXELS_API_KEY = '1KdkaXiKlqV22Uk3UBts0UB5uZYyBMlH7n9AzwurwVVTFRrOiWFSvti4'\n",
        "\n",
        "api = API(PEXELS_API_KEY)\n",
        "query = 'pizza'\n",
        "\n",
        "photos_dict = {}\n",
        "page = 1\n",
        "counter = 0\n",
        "\n",
        "#Step 1 : getting urls and metadata\n",
        "while page <= PAGE_LIMIT:\n",
        "  api.search(query, page=page, results_per_page=RESULTS_PER_PAGE)\n",
        "  photos = api.get_entries()\n",
        "  for photo in tqdm.tqdm(photos):\n",
        "    photos_dict[photo.id] = vars(photo)['_Photo__photo']\n",
        "    counter += 1\n",
        "    if not api.has_next_page:\n",
        "      break\n",
        "    page += 1\n",
        "    time.sleep(2)\n",
        "\n",
        "print(f\"Finishing at page: {page}\")\n",
        "print(f\"Images were processed: {counter}\")"
      ],
      "metadata": {
        "colab": {
          "base_uri": "https://localhost:8080/"
        },
        "id": "Vci2Sfwy2kRn",
        "outputId": "6b9658b5-a4db-4958-c4b5-7daf87b3b779"
      },
      "execution_count": 9,
      "outputs": [
        {
          "output_type": "stream",
          "name": "stderr",
          "text": [
            "100%|██████████| 1/1 [00:02<00:00,  2.00s/it]\n",
            "100%|██████████| 1/1 [00:02<00:00,  2.01s/it]\n",
            "100%|██████████| 1/1 [00:02<00:00,  2.00s/it]\n",
            "100%|██████████| 1/1 [00:02<00:00,  2.00s/it]\n",
            "100%|██████████| 1/1 [00:02<00:00,  2.00s/it]"
          ]
        },
        {
          "output_type": "stream",
          "name": "stdout",
          "text": [
            "Finishing at page: 6\n",
            "Images were processed: 5\n"
          ]
        },
        {
          "output_type": "stream",
          "name": "stderr",
          "text": [
            "\n"
          ]
        }
      ]
    },
    {
      "cell_type": "markdown",
      "source": [
        "A kereses utan toltsuk le a a mappankba"
      ],
      "metadata": {
        "id": "nxYw6gRL4RKN"
      }
    },
    {
      "cell_type": "code",
      "source": [
        "from PIL import Image\n",
        "\n",
        "PATH = \"/content/gdrive/MyDrive/B-VI-MESTIN/ImageScrapper/Images\"\n",
        "RESOLUTION = \"original\"\n",
        "IMAGE_SIZE = (640, 640)\n",
        "\n",
        "if photos_dict:\n",
        "  os.makedirs(PATH, exist_ok=True)\n",
        "\n",
        "  with open(os.path.join(PATH, f'{query}.json'), 'w') as fout:\n",
        "    json.dump(photos_dict, fout)\n",
        "\n",
        "  for val in tqdm.tqdm(photos_dict.values()):\n",
        "    url = val['src'][RESOLUTION]\n",
        "    fname = os.path.basename(val['src']['original'])\n",
        "    image_path = os.path.join(PATH, fname)\n",
        "    if not os.path.isfile(image_path):\n",
        "      response = requests.get(url, stream=True)\n",
        "      with open(image_path, 'wb') as outfile:\n",
        "        outfile.write(response.content)\n",
        "\n",
        "      with Image.open(image_path) as img:\n",
        "        img = img.resize(IMAGE_SIZE)\n",
        "        img.save(image_path)\n",
        "\n",
        "    else:\n",
        "      print(f\"file {image_path} already exists\")\n"
      ],
      "metadata": {
        "colab": {
          "base_uri": "https://localhost:8080/"
        },
        "id": "ZoTLZDmu4VZ4",
        "outputId": "28e63577-3829-4fa5-b402-a91ad1a6b364"
      },
      "execution_count": 11,
      "outputs": [
        {
          "output_type": "stream",
          "name": "stderr",
          "text": [
            "100%|██████████| 5/5 [00:04<00:00,  1.13it/s]\n"
          ]
        }
      ]
    }
  ]
}